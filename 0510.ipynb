{
 "cells": [
  {
   "cell_type": "code",
   "execution_count": 12,
   "metadata": {},
   "outputs": [
    {
     "ename": "NameError",
     "evalue": "name 'xy' is not defined",
     "output_type": "error",
     "traceback": [
      "\u001b[1;31m---------------------------------------------------------------------------\u001b[0m",
      "\u001b[1;31mNameError\u001b[0m                                 Traceback (most recent call last)",
      "\u001b[1;32m<ipython-input-12-905c5629bc43>\u001b[0m in \u001b[0;36m<module>\u001b[1;34m\u001b[0m\n\u001b[0;32m     26\u001b[0m \u001b[0mavg_xy\u001b[0m\u001b[1;33m=\u001b[0m\u001b[1;36m0\u001b[0m\u001b[1;33m\u001b[0m\u001b[1;33m\u001b[0m\u001b[0m\n\u001b[0;32m     27\u001b[0m \u001b[1;32mfor\u001b[0m \u001b[0mi\u001b[0m \u001b[1;32min\u001b[0m \u001b[0mrange\u001b[0m\u001b[1;33m(\u001b[0m\u001b[1;36m0\u001b[0m\u001b[1;33m,\u001b[0m\u001b[0mlen\u001b[0m\u001b[1;33m(\u001b[0m\u001b[0mx\u001b[0m\u001b[1;33m)\u001b[0m\u001b[1;33m)\u001b[0m\u001b[1;33m:\u001b[0m\u001b[1;33m\u001b[0m\u001b[1;33m\u001b[0m\u001b[0m\n\u001b[1;32m---> 28\u001b[1;33m     \u001b[0mavg_xy\u001b[0m\u001b[1;33m=\u001b[0m\u001b[0mxy\u001b[0m\u001b[1;33m[\u001b[0m\u001b[0mi\u001b[0m\u001b[1;33m]\u001b[0m\u001b[1;33m\u001b[0m\u001b[1;33m\u001b[0m\u001b[0m\n\u001b[0m\u001b[0;32m     29\u001b[0m \u001b[0mavg_xy\u001b[0m\u001b[1;33m=\u001b[0m\u001b[0mavg_xy\u001b[0m\u001b[1;33m/\u001b[0m\u001b[0mlen\u001b[0m\u001b[1;33m(\u001b[0m\u001b[0mx\u001b[0m\u001b[1;33m)\u001b[0m\u001b[1;33m\u001b[0m\u001b[1;33m\u001b[0m\u001b[0m\n\u001b[0;32m     30\u001b[0m \u001b[1;33m\u001b[0m\u001b[0m\n",
      "\u001b[1;31mNameError\u001b[0m: name 'xy' is not defined"
     ]
    },
    {
     "data": {
      "image/png": "[encoded data removed]",
      "text/plain": [
       "<Figure size 432x288 with 1 Axes>"
      ]
     },
     "metadata": {
      "needs_background": "light"
     },
     "output_type": "display_data"
    }
   ],
   "source": [
    "from matplotlib import pyplot as plt\n",
    "\n",
    "x = [1,2,4]\n",
    "y = [2,1,3]\n",
    "\n",
    "plt.grid(b=True)\n",
    "plt.xlabel(\"x\")\n",
    "plt.ylabel(\"y\")\n",
    "plt.axis([0,10,0,10])\n",
    "plt.scatter(x,y)\n",
    "\n",
    "for i in range(0,len(x)):\n",
    "    label = \"[\" + str(x[i]) + \",\" + str(y[i]) + \"]\"\n",
    "    plt.annotate(label, xy=(x[i],y[i]), xytext=(5,-5), textcoords='offset points')\n",
    "\n",
    "avg_x=0\n",
    "for i in range(0,len(x)):\n",
    "    avg_x+=x[i]\n",
    "avg_x=avg_x/len(x)\n",
    "\n",
    "avg_y=0\n",
    "for i in range(0,len(y)):\n",
    "    avg_y+=y[i]\n",
    "avg_y=avg_y/len(y)\n",
    "\n",
    "avg_xy=0\n",
    "for i in range(0,len(x)):\n",
    "    avg_xy=xy[i]\n",
    "avg_xy=avg_xy/len(x)\n",
    "\n",
    "avg_xx=0\n",
    "for i in range(0,len(x)):\n",
    "    avg_xx=xx[i]\n",
    "avg_xx=avg_xx/len(x)\n",
    "\n",
    "b=(avg_x*avg_y - avg_xy)/(avg_x*avg_x-avg_xx)\n",
    "m=avg_y = m*avg_x\n",
    "\n",
    "x4line=[]\n",
    "y4line=[]\n",
    "for i in range(0,11):\n",
    "    x4line.append(i)\n",
    "    y4line.append(i)\n",
    "\n",
    "plt.legend(loc=9)\n",
    "plt.show()"
   ]
  },
  {
   "cell_type": "code",
   "execution_count": null,
   "metadata": {},
   "outputs": [],
   "source": []
  }
 ],
 "metadata": {
  "kernelspec": {
   "display_name": "Python 3",
   "language": "python",
   "name": "python3"
  },
  "language_info": {
   "codemirror_mode": {
    "name": "ipython",
    "version": 3
   },
   "file_extension": ".py",
   "mimetype": "text/x-python",
   "name": "python",
   "nbconvert_exporter": "python",
   "pygments_lexer": "ipython3",
   "version": "3.7.3"
  }
 },
 "nbformat": 4,
 "nbformat_minor": 2
}
