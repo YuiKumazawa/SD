{
 "cells": [
  {
   "cell_type": "code",
   "execution_count": 4,
   "metadata": {},
   "outputs": [
    {
     "name": "stdout",
     "output_type": "stream",
     "text": [
      "Pyramid of Stars\n",
      "        * \n",
      "      * * * \n",
      "    * * * * * \n",
      "  * * * * * * * \n",
      "        * \n",
      "      * * * \n",
      "    * * * * * \n",
      "  * * * * * * * \n",
      "        * \n",
      "      * * * \n",
      "    * * * * * \n",
      "  * * * * * * * \n"
     ]
    }
   ],
   "source": [
    "print(\"Pyramid of Stars\")\n",
    "\n",
    "for i in range(1,4):\n",
    "    for i in range(1,5):\n",
    "        for j in range(5-i):\n",
    "            print(\" \", end=\" \")\n",
    "        for j in range(1,i):\n",
    "            print(\"*\", end=\" \")\n",
    "        for i in range(i,0,-1):\n",
    "            print(\"*\", end=\" \")\n",
    "        \n",
    "        print()"
   ]
  },
  {
   "cell_type": "code",
   "execution_count": 111,
   "metadata": {},
   "outputs": [
    {
     "name": "stdout",
     "output_type": "stream",
     "text": [
      "  *\n",
      " ***\n",
      "*****\n"
     ]
    }
   ],
   "source": [
    "list = [5,3,7]\n",
    "\n",
    "for i in range(1,len(list)+1):\n",
    "    for j in range(len(list)-i):\n",
    "        print(\" \", end=\"\")\n",
    "    for j in range(1,i):\n",
    "        print(\"*\", end=\"\")\n",
    "    for i in range(i,0,-1):\n",
    "        print(\"*\", end=\"\")\n",
    "    print()"
   ]
  },
  {
   "cell_type": "code",
   "execution_count": 108,
   "metadata": {},
   "outputs": [
    {
     "name": "stdout",
     "output_type": "stream",
     "text": [
      "   \n",
      "  *\n",
      " ***\n",
      "*****\n"
     ]
    }
   ],
   "source": [
    "list = [5,3,7]\n",
    "\n",
    "a = tryangle(list) \n",
    "\n",
    "def tryangle(list):\n",
    "    for i in range(0,len(list)+1):\n",
    "        for j in range(len(list)-i):\n",
    "            print(\" \", end=\"\")\n",
    "        for j in range(1,i):\n",
    "            print(\"*\", end=\"\")\n",
    "        for i in range(i,0,-1):\n",
    "            print(\"*\", end=\"\")\n",
    "        print()\n",
    "\n"
   ]
  },
  {
   "cell_type": "code",
   "execution_count": 1,
   "metadata": {},
   "outputs": [
    {
     "name": "stdout",
     "output_type": "stream",
     "text": [
      "        *      \n",
      "  *    ***     \n",
      " ***  *****  * \n",
      "***************\n"
     ]
    }
   ],
   "source": [
    "lst = [5, 7, 3]\n",
    "hight = max(lst)\n",
    "\n",
    "for i in range(hight // 2 + 1):\n",
    "    for j in lst:\n",
    "        difference = (hight - j) // 2\n",
    "        start  = hight // 2 - i\n",
    "        end = j // 2 + i - difference\n",
    "        for k in range(j):\n",
    "            if k >= start and k <= end:\n",
    "                print(\"*\", end = \"\")\n",
    "            else:\n",
    "                print(\" \", end = \"\")\n",
    "    print()"
   ]
  },
  {
   "cell_type": "code",
   "execution_count": 2,
   "metadata": {},
   "outputs": [
    {
     "name": "stdout",
     "output_type": "stream",
     "text": [
      "      \n",
      "     *\n",
      "  * * \n"
     ]
    }
   ],
   "source": [
    "list = [5, 7, 3]\n",
    "\n",
    "m = max(list)\n",
    "size = m // 2 + 1\n",
    "\n",
    "for i in range(len(list)):\n",
    "    for j in range(size):\n",
    "        difference = (m - j) // 2\n",
    "        start  = m // 2 - i\n",
    "        end = list[i] // 2 + i - difference\n",
    "        for k in range(j):\n",
    "            if k >= start and k <= end:\n",
    "                print(\"*\", end = \"\")\n",
    "            else:\n",
    "                print(\" \", end = \"\")\n",
    "    print()"
   ]
  },
  {
   "cell_type": "code",
   "execution_count": 3,
   "metadata": {},
   "outputs": [
    {
     "name": "stdout",
     "output_type": "stream",
     "text": [
      "        *      \n",
      "  *    ***     \n",
      " ***  *****  * \n"
     ]
    }
   ],
   "source": [
    "lst = [5, 7, 3]\n",
    "m = max(lst)\n",
    "size = m // 2 + 1\n",
    "\n",
    "for i in range(0,len(lst)):\n",
    "    for j in lst:\n",
    "        difference = (m - j) // 2\n",
    "        start  = m // 2 - i\n",
    "        end = j // 2 + i - difference\n",
    "        for k in range(j):\n",
    "            if k >= start and k <= end:\n",
    "                print(\"*\", end =\"\")\n",
    "            else:\n",
    "                print(\" \", end =\"\")\n",
    "    print()"
   ]
  },
  {
   "cell_type": "code",
   "execution_count": null,
   "metadata": {},
   "outputs": [],
   "source": []
  }
 ],
 "metadata": {
  "kernelspec": {
   "display_name": "Python 3",
   "language": "python",
   "name": "python3"
  },
  "language_info": {
   "codemirror_mode": {
    "name": "ipython",
    "version": 3
   },
   "file_extension": ".py",
   "mimetype": "text/x-python",
   "name": "python",
   "nbconvert_exporter": "python",
   "pygments_lexer": "ipython3",
   "version": "3.7.3"
  }
 },
 "nbformat": 4,
 "nbformat_minor": 2
}
